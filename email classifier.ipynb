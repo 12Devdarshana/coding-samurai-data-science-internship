{
 "cells": [
  {
   "cell_type": "code",
   "execution_count": 19,
   "id": "d1451c21",
   "metadata": {},
   "outputs": [],
   "source": [
    "import numpy as np\n",
    "import matplotlib.pyplot as plt\n",
    "from sklearn.naive_bayes import MultinomialNB\n"
   ]
  },
  {
   "cell_type": "code",
   "execution_count": 2,
   "id": "a23cbd47",
   "metadata": {},
   "outputs": [
    {
     "data": {
      "text/html": [
       "<div>\n",
       "<style scoped>\n",
       "    .dataframe tbody tr th:only-of-type {\n",
       "        vertical-align: middle;\n",
       "    }\n",
       "\n",
       "    .dataframe tbody tr th {\n",
       "        vertical-align: top;\n",
       "    }\n",
       "\n",
       "    .dataframe thead th {\n",
       "        text-align: right;\n",
       "    }\n",
       "</style>\n",
       "<table border=\"1\" class=\"dataframe\">\n",
       "  <thead>\n",
       "    <tr style=\"text-align: right;\">\n",
       "      <th></th>\n",
       "      <th>Unnamed: 0</th>\n",
       "      <th>label</th>\n",
       "      <th>text</th>\n",
       "      <th>label_num</th>\n",
       "    </tr>\n",
       "  </thead>\n",
       "  <tbody>\n",
       "    <tr>\n",
       "      <th>0</th>\n",
       "      <td>605</td>\n",
       "      <td>ham</td>\n",
       "      <td>Subject: enron methanol ; meter # : 988291\\r\\n...</td>\n",
       "      <td>0</td>\n",
       "    </tr>\n",
       "    <tr>\n",
       "      <th>1</th>\n",
       "      <td>2349</td>\n",
       "      <td>ham</td>\n",
       "      <td>Subject: hpl nom for january 9 , 2001\\r\\n( see...</td>\n",
       "      <td>0</td>\n",
       "    </tr>\n",
       "    <tr>\n",
       "      <th>2</th>\n",
       "      <td>3624</td>\n",
       "      <td>ham</td>\n",
       "      <td>Subject: neon retreat\\r\\nho ho ho , we ' re ar...</td>\n",
       "      <td>0</td>\n",
       "    </tr>\n",
       "    <tr>\n",
       "      <th>3</th>\n",
       "      <td>4685</td>\n",
       "      <td>spam</td>\n",
       "      <td>Subject: photoshop , windows , office . cheap ...</td>\n",
       "      <td>1</td>\n",
       "    </tr>\n",
       "    <tr>\n",
       "      <th>4</th>\n",
       "      <td>2030</td>\n",
       "      <td>ham</td>\n",
       "      <td>Subject: re : indian springs\\r\\nthis deal is t...</td>\n",
       "      <td>0</td>\n",
       "    </tr>\n",
       "  </tbody>\n",
       "</table>\n",
       "</div>"
      ],
      "text/plain": [
       "   Unnamed: 0 label                                               text  \\\n",
       "0         605   ham  Subject: enron methanol ; meter # : 988291\\r\\n...   \n",
       "1        2349   ham  Subject: hpl nom for january 9 , 2001\\r\\n( see...   \n",
       "2        3624   ham  Subject: neon retreat\\r\\nho ho ho , we ' re ar...   \n",
       "3        4685  spam  Subject: photoshop , windows , office . cheap ...   \n",
       "4        2030   ham  Subject: re : indian springs\\r\\nthis deal is t...   \n",
       "\n",
       "   label_num  \n",
       "0          0  \n",
       "1          0  \n",
       "2          0  \n",
       "3          1  \n",
       "4          0  "
      ]
     },
     "execution_count": 2,
     "metadata": {},
     "output_type": "execute_result"
    }
   ],
   "source": [
    "import pandas as pd\n",
    "df=pd.read_csv('spam_ham_dataset.csv')\n",
    "df.head()"
   ]
  },
  {
   "cell_type": "code",
   "execution_count": 3,
   "id": "aa4be65c",
   "metadata": {},
   "outputs": [
    {
     "name": "stdout",
     "output_type": "stream",
     "text": [
      "      Unnamed: 0 label                                               text  \\\n",
      "0            605   ham  Subject: enron methanol ; meter # : 988291\\r\\n...   \n",
      "1           2349   ham  Subject: hpl nom for january 9 , 2001\\r\\n( see...   \n",
      "2           3624   ham  Subject: neon retreat\\r\\nho ho ho , we ' re ar...   \n",
      "3           4685  spam  Subject: photoshop , windows , office . cheap ...   \n",
      "4           2030   ham  Subject: re : indian springs\\r\\nthis deal is t...   \n",
      "...          ...   ...                                                ...   \n",
      "5166        1518   ham  Subject: put the 10 on the ft\\r\\nthe transport...   \n",
      "5167         404   ham  Subject: 3 / 4 / 2000 and following noms\\r\\nhp...   \n",
      "5168        2933   ham  Subject: calpine daily gas nomination\\r\\n>\\r\\n...   \n",
      "5169        1409   ham  Subject: industrial worksheets for august 2000...   \n",
      "5170        4807  spam  Subject: important online banking alert\\r\\ndea...   \n",
      "\n",
      "      label_num  \n",
      "0             0  \n",
      "1             0  \n",
      "2             0  \n",
      "3             1  \n",
      "4             0  \n",
      "...         ...  \n",
      "5166          0  \n",
      "5167          0  \n",
      "5168          0  \n",
      "5169          0  \n",
      "5170          1  \n",
      "\n",
      "[5171 rows x 4 columns]\n"
     ]
    }
   ],
   "source": [
    "print (df)"
   ]
  },
  {
   "cell_type": "code",
   "execution_count": 4,
   "id": "ea380983",
   "metadata": {},
   "outputs": [],
   "source": [
    "data= df.where((pd.notnull(df)),'')"
   ]
  },
  {
   "cell_type": "code",
   "execution_count": 5,
   "id": "c71e3c3d",
   "metadata": {},
   "outputs": [
    {
     "data": {
      "text/html": [
       "<div>\n",
       "<style scoped>\n",
       "    .dataframe tbody tr th:only-of-type {\n",
       "        vertical-align: middle;\n",
       "    }\n",
       "\n",
       "    .dataframe tbody tr th {\n",
       "        vertical-align: top;\n",
       "    }\n",
       "\n",
       "    .dataframe thead th {\n",
       "        text-align: right;\n",
       "    }\n",
       "</style>\n",
       "<table border=\"1\" class=\"dataframe\">\n",
       "  <thead>\n",
       "    <tr style=\"text-align: right;\">\n",
       "      <th></th>\n",
       "      <th>Unnamed: 0</th>\n",
       "      <th>label</th>\n",
       "      <th>text</th>\n",
       "      <th>label_num</th>\n",
       "    </tr>\n",
       "  </thead>\n",
       "  <tbody>\n",
       "    <tr>\n",
       "      <th>0</th>\n",
       "      <td>605</td>\n",
       "      <td>ham</td>\n",
       "      <td>Subject: enron methanol ; meter # : 988291\\r\\n...</td>\n",
       "      <td>0</td>\n",
       "    </tr>\n",
       "    <tr>\n",
       "      <th>1</th>\n",
       "      <td>2349</td>\n",
       "      <td>ham</td>\n",
       "      <td>Subject: hpl nom for january 9 , 2001\\r\\n( see...</td>\n",
       "      <td>0</td>\n",
       "    </tr>\n",
       "    <tr>\n",
       "      <th>2</th>\n",
       "      <td>3624</td>\n",
       "      <td>ham</td>\n",
       "      <td>Subject: neon retreat\\r\\nho ho ho , we ' re ar...</td>\n",
       "      <td>0</td>\n",
       "    </tr>\n",
       "    <tr>\n",
       "      <th>3</th>\n",
       "      <td>4685</td>\n",
       "      <td>spam</td>\n",
       "      <td>Subject: photoshop , windows , office . cheap ...</td>\n",
       "      <td>1</td>\n",
       "    </tr>\n",
       "    <tr>\n",
       "      <th>4</th>\n",
       "      <td>2030</td>\n",
       "      <td>ham</td>\n",
       "      <td>Subject: re : indian springs\\r\\nthis deal is t...</td>\n",
       "      <td>0</td>\n",
       "    </tr>\n",
       "    <tr>\n",
       "      <th>5</th>\n",
       "      <td>2949</td>\n",
       "      <td>ham</td>\n",
       "      <td>Subject: ehronline web address change\\r\\nthis ...</td>\n",
       "      <td>0</td>\n",
       "    </tr>\n",
       "    <tr>\n",
       "      <th>6</th>\n",
       "      <td>2793</td>\n",
       "      <td>ham</td>\n",
       "      <td>Subject: spring savings certificate - take 30 ...</td>\n",
       "      <td>0</td>\n",
       "    </tr>\n",
       "    <tr>\n",
       "      <th>7</th>\n",
       "      <td>4185</td>\n",
       "      <td>spam</td>\n",
       "      <td>Subject: looking for medication ? we ` re the ...</td>\n",
       "      <td>1</td>\n",
       "    </tr>\n",
       "    <tr>\n",
       "      <th>8</th>\n",
       "      <td>2641</td>\n",
       "      <td>ham</td>\n",
       "      <td>Subject: noms / actual flow for 2 / 26\\r\\nwe a...</td>\n",
       "      <td>0</td>\n",
       "    </tr>\n",
       "    <tr>\n",
       "      <th>9</th>\n",
       "      <td>1870</td>\n",
       "      <td>ham</td>\n",
       "      <td>Subject: nominations for oct . 21 - 23 , 2000\\...</td>\n",
       "      <td>0</td>\n",
       "    </tr>\n",
       "  </tbody>\n",
       "</table>\n",
       "</div>"
      ],
      "text/plain": [
       "   Unnamed: 0 label                                               text  \\\n",
       "0         605   ham  Subject: enron methanol ; meter # : 988291\\r\\n...   \n",
       "1        2349   ham  Subject: hpl nom for january 9 , 2001\\r\\n( see...   \n",
       "2        3624   ham  Subject: neon retreat\\r\\nho ho ho , we ' re ar...   \n",
       "3        4685  spam  Subject: photoshop , windows , office . cheap ...   \n",
       "4        2030   ham  Subject: re : indian springs\\r\\nthis deal is t...   \n",
       "5        2949   ham  Subject: ehronline web address change\\r\\nthis ...   \n",
       "6        2793   ham  Subject: spring savings certificate - take 30 ...   \n",
       "7        4185  spam  Subject: looking for medication ? we ` re the ...   \n",
       "8        2641   ham  Subject: noms / actual flow for 2 / 26\\r\\nwe a...   \n",
       "9        1870   ham  Subject: nominations for oct . 21 - 23 , 2000\\...   \n",
       "\n",
       "   label_num  \n",
       "0          0  \n",
       "1          0  \n",
       "2          0  \n",
       "3          1  \n",
       "4          0  \n",
       "5          0  \n",
       "6          0  \n",
       "7          1  \n",
       "8          0  \n",
       "9          0  "
      ]
     },
     "execution_count": 5,
     "metadata": {},
     "output_type": "execute_result"
    }
   ],
   "source": [
    "data.head(10)"
   ]
  },
  {
   "cell_type": "code",
   "execution_count": 6,
   "id": "32505b08",
   "metadata": {},
   "outputs": [
    {
     "name": "stdout",
     "output_type": "stream",
     "text": [
      "<class 'pandas.core.frame.DataFrame'>\n",
      "RangeIndex: 5171 entries, 0 to 5170\n",
      "Data columns (total 4 columns):\n",
      " #   Column      Non-Null Count  Dtype \n",
      "---  ------      --------------  ----- \n",
      " 0   Unnamed: 0  5171 non-null   int64 \n",
      " 1   label       5171 non-null   object\n",
      " 2   text        5171 non-null   object\n",
      " 3   label_num   5171 non-null   int64 \n",
      "dtypes: int64(2), object(2)\n",
      "memory usage: 161.7+ KB\n"
     ]
    }
   ],
   "source": [
    "data.info()"
   ]
  },
  {
   "cell_type": "code",
   "execution_count": 7,
   "id": "c1084588",
   "metadata": {},
   "outputs": [
    {
     "data": {
      "text/html": [
       "<div>\n",
       "<style scoped>\n",
       "    .dataframe tbody tr th:only-of-type {\n",
       "        vertical-align: middle;\n",
       "    }\n",
       "\n",
       "    .dataframe tbody tr th {\n",
       "        vertical-align: top;\n",
       "    }\n",
       "\n",
       "    .dataframe thead th {\n",
       "        text-align: right;\n",
       "    }\n",
       "</style>\n",
       "<table border=\"1\" class=\"dataframe\">\n",
       "  <thead>\n",
       "    <tr style=\"text-align: right;\">\n",
       "      <th></th>\n",
       "      <th>Unnamed: 0</th>\n",
       "      <th>label</th>\n",
       "      <th>text</th>\n",
       "      <th>label_num</th>\n",
       "      <th>spam</th>\n",
       "    </tr>\n",
       "  </thead>\n",
       "  <tbody>\n",
       "    <tr>\n",
       "      <th>0</th>\n",
       "      <td>605</td>\n",
       "      <td>ham</td>\n",
       "      <td>Subject: enron methanol ; meter # : 988291\\r\\n...</td>\n",
       "      <td>0</td>\n",
       "      <td>0</td>\n",
       "    </tr>\n",
       "    <tr>\n",
       "      <th>1</th>\n",
       "      <td>2349</td>\n",
       "      <td>ham</td>\n",
       "      <td>Subject: hpl nom for january 9 , 2001\\r\\n( see...</td>\n",
       "      <td>0</td>\n",
       "      <td>0</td>\n",
       "    </tr>\n",
       "    <tr>\n",
       "      <th>2</th>\n",
       "      <td>3624</td>\n",
       "      <td>ham</td>\n",
       "      <td>Subject: neon retreat\\r\\nho ho ho , we ' re ar...</td>\n",
       "      <td>0</td>\n",
       "      <td>0</td>\n",
       "    </tr>\n",
       "    <tr>\n",
       "      <th>3</th>\n",
       "      <td>4685</td>\n",
       "      <td>spam</td>\n",
       "      <td>Subject: photoshop , windows , office . cheap ...</td>\n",
       "      <td>1</td>\n",
       "      <td>1</td>\n",
       "    </tr>\n",
       "    <tr>\n",
       "      <th>4</th>\n",
       "      <td>2030</td>\n",
       "      <td>ham</td>\n",
       "      <td>Subject: re : indian springs\\r\\nthis deal is t...</td>\n",
       "      <td>0</td>\n",
       "      <td>0</td>\n",
       "    </tr>\n",
       "  </tbody>\n",
       "</table>\n",
       "</div>"
      ],
      "text/plain": [
       "   Unnamed: 0 label                                               text  \\\n",
       "0         605   ham  Subject: enron methanol ; meter # : 988291\\r\\n...   \n",
       "1        2349   ham  Subject: hpl nom for january 9 , 2001\\r\\n( see...   \n",
       "2        3624   ham  Subject: neon retreat\\r\\nho ho ho , we ' re ar...   \n",
       "3        4685  spam  Subject: photoshop , windows , office . cheap ...   \n",
       "4        2030   ham  Subject: re : indian springs\\r\\nthis deal is t...   \n",
       "\n",
       "   label_num  spam  \n",
       "0          0     0  \n",
       "1          0     0  \n",
       "2          0     0  \n",
       "3          1     1  \n",
       "4          0     0  "
      ]
     },
     "execution_count": 7,
     "metadata": {},
     "output_type": "execute_result"
    }
   ],
   "source": [
    "df=pd.read_csv('spam_ham_dataset.csv')\n",
    "df['spam'] = df['label'].apply(lambda x:1 if x =='spam' else 0)\n",
    "df.head()\n"
   ]
  },
  {
   "cell_type": "markdown",
   "id": "1883e361",
   "metadata": {},
   "source": [
    "# inputs= df.drop('label' , axis=' columns')\n",
    "#inputs.describe()"
   ]
  },
  {
   "cell_type": "code",
   "execution_count": 30,
   "id": "6d11d532",
   "metadata": {},
   "outputs": [
    {
     "data": {
      "text/plain": [
       "4136"
      ]
     },
     "execution_count": 30,
     "metadata": {},
     "output_type": "execute_result"
    }
   ],
   "source": [
    "\n",
    "from sklearn.model_selection import train_test_split\n",
    "df=pd.read_csv('spam_ham_dataset.csv')\n",
    "x_train, x_test,y_train,y_test=train_test_split(df.text,df.label_num,test_size=0.2)\n",
    "len(x_train)"
   ]
  },
  {
   "cell_type": "code",
   "execution_count": 9,
   "id": "9d4937af",
   "metadata": {},
   "outputs": [
    {
     "data": {
      "text/plain": [
       "1035"
      ]
     },
     "execution_count": 9,
     "metadata": {},
     "output_type": "execute_result"
    }
   ],
   "source": [
    "len(x_test)"
   ]
  },
  {
   "cell_type": "code",
   "execution_count": 31,
   "id": "539a3a63",
   "metadata": {},
   "outputs": [
    {
     "data": {
      "text/plain": [
       "array(['Subject: mobile charset = us - ascii \" >\\r\\nplease note that we experienced a technical fault with\\r\\nour email server and have not received your emails since 22 nd july\\r\\ntill lst august . please resend all your emails , sent during the\\r\\ndates mentioned . sorry for the\\r\\ninconvenience .\\r\\nmanagement\\r\\ncomputron .\\r\\nbluetooth\\r\\n$ 38 . 50\\r\\n$ 59 . 00\\r\\nbluetoothheadset\\r\\nbluetooth landline ( desktop ) telephony\\r\\nconnect this\\r\\nblue tooth headset and enjoy wireless mobility with\\r\\nbluetooth technology . it features bluetooth vl . 1 compliant ,\\r\\n2 . 5 hours of talk time , 240 hours standby , and fits\\r\\ncomfortably on either side of your ear . simply pair the\\r\\nheadset with the phone or mobile , add it to the pairing list\\r\\nin the phone , and you \\' re ready to answer or make a call .\\r\\nget hands - free control without the hassle of\\r\\ncords .\\r\\nuse your bluetooth wireless headset with any land\\r\\nline ( desktop ) phone ! this bluetooth telephony base is\\r\\nbluetooth specification vl . 1 compliant and has an operating\\r\\nrange of up to 10 meters ( 32 . 80 feet ) . it features one voice\\r\\nchannel and has security features that provide authorization\\r\\nand authentication . to use this device with any bluetooth\\r\\nwireless headset , simply set it and your headset in pairing\\r\\nmode and you \\' re ready to answer or make a call . get yours\\r\\ntoday from\\r\\ncomputron !\\r\\nvisit : http : / / www . computron - me . com for deals\\r\\n!\\r\\nyour one stop / office # td\\r\\n01 , jebel ali duty free zonedubai , uae . www . computron - me . com\\r\\nfor latest clearance sale listing contact our\\r\\nsales department .\\r\\nfor further details please send\\r\\nyour enquiries to : dealers @ emirates . net . aeor contact via www . computron - me . com\\r\\ncompaq\\r\\nhewlett packard\\r\\n3 com\\r\\ndell\\r\\nintel\\r\\niomega\\r\\nepson\\r\\naopen\\r\\ncreative\\r\\ntoshiba\\r\\napc\\r\\ncisco\\r\\nus\\r\\nrobotics\\r\\nmicrosoft\\r\\ncanon\\r\\nintellinet\\r\\ntargus\\r\\nviewsonic\\r\\nibm\\r\\nsony\\r\\n- - - - - - - and lots more\\r\\n! ! !\\r\\nif you have any\\r\\ncomplaints / suggestions contact : customerservice @ computron - me . com\\r\\ntel + 971 4\\r\\n8834464\\r\\nall prices in u . s . dollars , ex - works ,\\r\\nfax + 971 4\\r\\n8834454\\r\\njebel ali duty free zone\\r\\nwww . computron - me . com\\r\\nprices and availability subject to change\\r\\nusa -\\r\\ncanada u . a . e .\\r\\nwithout\\r\\nnotice .\\r\\nto receive our special offers\\r\\nin plain\\r\\ntext format reply to this\\r\\nmail with the request * for\\r\\nexport only *\\r\\nthis\\r\\nemail can not be considered spam as long as we include : contact\\r\\ninformation remove instructions . this message is intended for dealer\\r\\nand resellers only . if you have somehow gotten on this list in error , or\\r\\nfor any other reason would like to be removed , please reply with \" remove\\r\\n\" in the subject line of your message . this message is being sent to you\\r\\nin compliance with the federal legislation for commercial e - mail\\r\\n( h . r . 4176 - section 101 paragraph ( e ) ( 1 ) ( a ) and bill s . 1618 title iii\\r\\npassed by the 105 th u . s . congress .\\r\\nall logos and\\r\\ntrademarks are the property of their respective\\r\\nowners\\r\\nproducts may not be exactly as shown\\r\\nabove\\r\\n- -\\r\\nto unsubscribe from : computron 6 , just follow this link :\\r\\nclick the link , or copy and paste the address into your browser .',\n",
       "       'Subject: windows xp w / office xp for only $ 80 . haddad verified\\r\\npocketbooks buttons poetics clockwise gentle\\r\\nsymptomatic lining fall\\r\\ncasey eliminators besetting terrorize admirably\\r\\nmelons entrenched winnie\\r\\nnadir expends doped non\\r\\ncoeditor erred backtracker jungle\\r\\nasparagus fence confound hire macedonia\\r\\nniccolo renunciation buzzard precondition\\r\\ntickets acknowledged advisements\\r\\n',\n",
       "       'Subject: best free adult personals\\r\\nsearching for best adult datlng slte ?\\r\\nclick h 3 re now and joln for fre 3 !\\r\\nno more',\n",
       "       ...,\n",
       "       \"Subject: customer reciept # 4359 bn winkle\\r\\nsimply visti our site and let ' s see if we can make you happy ! we love to\\r\\nmake our customer ' s feel good and that is why we offer many options for\\r\\ndiscount plans on larger orders . we also have the most superior affiliates\\r\\nthat we work with to help work with you\\r\\nhttp : / / ejnwrf . starsnugglegreat . com / li /\\r\\nomega , rolex , ap , oris , gucci , cartier , breitling , tag , rado , iwc , tissto ,\\r\\nv . c , patek . p , mont blanc , bvgari , panerai , a . lange @ sohne , hermes , movado ,\\r\\nlongines , lv , maurice l , technomarine , christian dior , fendi , dkny , chanel ,\\r\\nbaune mercier , ebel , concord , corum , piaget , jaeger lec , chopard , girard - p ,\\r\\ntitoni , tudor , breguet , blancpain , franck muller , dunhill , versace , zenith ,\\r\\ncalvin klein\\r\\n( still i ' m thinking about you only ) there are moments when i think i ' m\\r\\ngoing crazy\\r\\ndispositio copernic fleenor zzo 4 dishan dedey\\r\\nit ' s got me trickin ' and it ' s got me treatin ' !\\r\\nso come on now and let your good stuff rain down on me\\r\\n\",\n",
       "       \"Subject: shower your lover ( s ) with a fountain of sperm every time you ejaculate !\\r\\nour unique volume plll will turn you into a real man\\r\\nthat ejaculates up to 500 % more !\\r\\ncontains only natural ingredients and therefore\\r\\nyou do not need any physician ' s prescriptions !\\r\\nas an indication of its effectiveness , this plll\\r\\nhas been endorsed by a leading male porn star , bruno b .\\r\\norder it\\r\\nremove your email\\r\\n\",\n",
       "       'Subject: enron / hpl actuals for july 27 , 2000\\r\\nteco tap 25 . 000 / enron ; 48 . 750 / hpl iferc\\r\\nls hpl lsk ic 15 . 000 / enron'],\n",
       "      dtype=object)"
      ]
     },
     "execution_count": 31,
     "metadata": {},
     "output_type": "execute_result"
    }
   ],
   "source": [
    "x_train.values"
   ]
  },
  {
   "cell_type": "code",
   "execution_count": 11,
   "id": "dae34a1e",
   "metadata": {},
   "outputs": [
    {
     "data": {
      "text/plain": [
       "array([[0, 0, 0, ..., 0, 0, 0],\n",
       "       [0, 0, 0, ..., 0, 0, 0],\n",
       "       [0, 3, 0, ..., 0, 0, 0]], dtype=int64)"
      ]
     },
     "execution_count": 11,
     "metadata": {},
     "output_type": "execute_result"
    }
   ],
   "source": [
    "from sklearn.feature_extraction.text import CountVectorizer\n",
    "V=CountVectorizer()\n",
    "x_train_count=V.fit_transform(x_train.values)\n",
    "x_train_count.toarray()[:3]"
   ]
  },
  {
   "cell_type": "code",
   "execution_count": 20,
   "id": "46641c44",
   "metadata": {},
   "outputs": [
    {
     "data": {
      "text/plain": [
       "array([0, 0, 1, 0, 0], dtype=int64)"
      ]
     },
     "execution_count": 20,
     "metadata": {},
     "output_type": "execute_result"
    }
   ],
   "source": [
    "from sklearn.naive_bayes import MultinomialNB\n",
    "model=MultinomialNB()\n",
    "model.fit(x_train_count,y_train)\n",
    "emails=[\"Hey! what's up?\",\n",
    "       \"Please take care\",\n",
    "       \"Honesty is the best policy\",\n",
    "       \"Get 10% off on tshirts\",\n",
    "       \"I love me\"]\n",
    "emails_count=V.transform(emails)\n",
    "model.predict(emails_count)"
   ]
  },
  {
   "cell_type": "code",
   "execution_count": 29,
   "id": "83d13731",
   "metadata": {},
   "outputs": [
    {
     "data": {
      "text/plain": [
       "0.9951690821256038"
      ]
     },
     "execution_count": 29,
     "metadata": {},
     "output_type": "execute_result"
    }
   ],
   "source": [
    "\n",
    "x_test_count=V.fit_transform(x_test)\n",
    "model.score(x_test_count,y_test)"
   ]
  }
 ],
 "metadata": {
  "kernelspec": {
   "display_name": "Python 3 (ipykernel)",
   "language": "python",
   "name": "python3"
  },
  "language_info": {
   "codemirror_mode": {
    "name": "ipython",
    "version": 3
   },
   "file_extension": ".py",
   "mimetype": "text/x-python",
   "name": "python",
   "nbconvert_exporter": "python",
   "pygments_lexer": "ipython3",
   "version": "3.9.13"
  }
 },
 "nbformat": 4,
 "nbformat_minor": 5
}
